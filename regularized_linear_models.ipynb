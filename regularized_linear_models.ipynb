{
 "cells": [
  {
   "cell_type": "code",
   "execution_count": 1,
   "metadata": {},
   "outputs": [],
   "source": [
    "import numpy as np\n",
    "from sklearn.datasets import make_regression\n",
    "import matplotlib.pyplot as plt\n",
    "from sklearn.linear_model import LinearRegression"
   ]
  },
  {
   "cell_type": "code",
   "execution_count": null,
   "metadata": {},
   "outputs": [],
   "source": []
  },
  {
   "cell_type": "code",
   "execution_count": 2,
   "metadata": {},
   "outputs": [],
   "source": [
    "X, y = make_regression(10000, 10, noise=20)"
   ]
  },
  {
   "cell_type": "code",
   "execution_count": null,
   "metadata": {},
   "outputs": [],
   "source": []
  },
  {
   "cell_type": "code",
   "execution_count": 3,
   "metadata": {},
   "outputs": [],
   "source": [
    "class LinearBase:\n",
    "    def __init__(self, learning_rate, n_iter):\n",
    "        self.learning_rate = learning_rate if learning_rate else 0.1\n",
    "        self.n_iter = n_iter if n_iter else 1000\n",
    "        self.input_dim = None\n",
    "        self.coefs = None\n",
    "        self.intercept = None\n",
    "        self.fitted = False \n",
    "        \n",
    "    def _error(self, X, y, theta):\n",
    "        return X.dot(theta) - y.reshape(-1,1)\n",
    "    \n",
    "    def predict(self, X):\n",
    "        if not self.fitted:\n",
    "            raise Exception(\"Linreg is not yet fitted.\")\n",
    "        if len(X.shape) == 1:\n",
    "            X = X.reshape(1,-1)\n",
    "        if X.shape[1] != self.input_dim:\n",
    "            raise Exception(f\"Input data shape must be equal to fit data shape {self.input_dim}\")\n",
    "        if X.shape[1] == 1:\n",
    "            return X.dot(self.coefs) + self.intercept\n",
    "        return X.dot(self.coefs)\n",
    "    \n",
    "    def __repr__(self):\n",
    "        if self.fitted:\n",
    "            return f\"coefficients: {self.coefs}, \\n\\n intercept: {self.intercept}\"\n",
    "        else:\n",
    "            return \"Linreg\"    "
   ]
  },
  {
   "cell_type": "code",
   "execution_count": 11,
   "metadata": {},
   "outputs": [],
   "source": [
    "class RidgeReg(LinearBase):\n",
    "    def __init__(self, learning_rate, n_iter, alpha):\n",
    "        super().__init__(learning_rate, n_iter)\n",
    "        self.alpha = alpha\n",
    "\n",
    "    def fit(self, X, y, optimization='normal', verbose=None):\n",
    "        self.input_dim = X.shape[1]\n",
    "        \n",
    "        # add 1s\n",
    "        xb = np.c_[np.ones((X.shape[0],1)), X]\n",
    "        \n",
    "        # initiate coefs\n",
    "        theta = np.ones((xb.shape[1], 1))\n",
    "        \n",
    "        # get m\n",
    "        m = xb.shape[0]\n",
    "        \n",
    "        # normal equation\n",
    "        if optimization=='normal':\n",
    "            if m < 50000:\n",
    "                \n",
    "                # identity matrix\n",
    "                id_m = np.eye(len(theta))\n",
    "                id_m[0][0] = 0\n",
    "                A = self.alpha * id_m  \n",
    "                \n",
    "                # coefficients\n",
    "                theta = np.linalg.inv(xb.T.dot(xb) + A).dot(xb.T).dot(y)\n",
    "            else:\n",
    "                optimization = 'gradient_descent'\n",
    "                \n",
    "        if optimization=='gradient_descent':\n",
    "            for step in range(self.n_iter):\n",
    "                \n",
    "                # compute error\n",
    "                error = self._error(xb, y, theta)\n",
    "\n",
    "                # update coefficients            \n",
    "                theta = theta - (self.learning_rate / m) * (np.dot(xb.T, error) + (2 * self.alpha * theta))\n",
    "        \n",
    "        self.coefs = theta[1:]\n",
    "        self.intercept = theta[0]\n",
    "        self.fitted = True\n",
    "        return self\n",
    "   "
   ]
  },
  {
   "cell_type": "code",
   "execution_count": 70,
   "metadata": {},
   "outputs": [
    {
     "data": {
      "text/plain": [
       "array([[ 1.        , -1.62296152,  0.37072014, ..., -0.62845298,\n",
       "         1.29458756, -0.23641115],\n",
       "       [ 1.        ,  0.38604384,  0.4430225 , ...,  0.99574685,\n",
       "         0.86481061,  1.0405665 ],\n",
       "       [ 1.        ,  1.39644852,  0.19539866, ..., -1.24914932,\n",
       "         0.5649226 ,  0.2251639 ],\n",
       "       ...,\n",
       "       [ 1.        , -0.28387146,  0.4518475 , ...,  1.4362834 ,\n",
       "         0.66029339,  1.7010591 ],\n",
       "       [ 1.        , -0.6224633 , -0.58801878, ..., -0.90606239,\n",
       "        -1.15240146,  1.39284271],\n",
       "       [ 1.        , -0.84682469, -1.69955074, ...,  0.81982981,\n",
       "         0.49988047, -1.31688371]])"
      ]
     },
     "execution_count": 70,
     "metadata": {},
     "output_type": "execute_result"
    }
   ],
   "source": [
    "xb = np.c_[np.ones((X.shape[0],1)), X]\n",
    "xb"
   ]
  },
  {
   "cell_type": "code",
   "execution_count": 72,
   "metadata": {},
   "outputs": [],
   "source": [
    "beta = np.zeros(X.shape[1])\n",
    "\n",
    "beta[0] = np.sum(y - np.dot(X[:, 1:], beta[1:]))/(X.shape[0])"
   ]
  },
  {
   "cell_type": "code",
   "execution_count": 84,
   "metadata": {},
   "outputs": [
    {
     "data": {
      "text/plain": [
       "array([[2, 9],\n",
       "       [4, 9],\n",
       "       [6, 9]])"
      ]
     },
     "execution_count": 84,
     "metadata": {},
     "output_type": "execute_result"
    }
   ],
   "source": [
    "i = np.array([[1, 2, 9], [3, 4,9], [5,6,9]])\n",
    "i[:, 1:]"
   ]
  },
  {
   "cell_type": "code",
   "execution_count": null,
   "metadata": {},
   "outputs": [],
   "source": []
  },
  {
   "cell_type": "code",
   "execution_count": 135,
   "metadata": {},
   "outputs": [],
   "source": [
    "class LASSOReg(LinearBase):\n",
    "    \n",
    "    def __init__(self, learning_rate=None, n_iter=1000, alpha=1):\n",
    "        super().__init__(learning_rate, n_iter)\n",
    "        self.alpha = alpha\n",
    "    \n",
    "\n",
    "    def fit(self, X, y):\n",
    "        self.input_dim = X.shape[1]\n",
    "        \n",
    "        # add 1s for intercept\n",
    "        xb = np.c_[np.ones((X.shape[0],1)), X]\n",
    "        \n",
    "        # get input dimentions\n",
    "        m, n = xb.shape    \n",
    "            \n",
    "        # initialise theta    \n",
    "        theta = np.zeros(n)\n",
    "\n",
    "        # set intercept\n",
    "        theta[0] = np.sum(y - np.dot(xb[:, 1:], theta[1:])) / m\n",
    "        \n",
    "        for iteration in range(self.n_iter):\n",
    "            \n",
    "            # iterate over coefficients\n",
    "            for param in range(1, n):\n",
    "                \n",
    "                # temporary theta\n",
    "                theta_ = theta.copy()\n",
    "                theta_[param] = 0.0\n",
    "                \n",
    "                # residuals\n",
    "                err = y - np.dot(xb, theta_)\n",
    "                \n",
    "                # input to thresholding\n",
    "                x = np.dot(xb[:, param], err)\n",
    "                lmbda = self.alpha * m\n",
    "\n",
    "                # update coefficient\n",
    "                theta[param] = self.__soft_thresholding(x, lmbda) / (xb[:, param] ** 2).sum()\n",
    "\n",
    "                # set intercept\n",
    "                theta[0] = np.sum(y - np.dot(xb[:, 1:], theta[1:])) / m\n",
    "\n",
    "    \n",
    "        self.intercept = theta[0]\n",
    "        self.coefs = theta[1:]\n",
    "        self.fitted = True\n",
    "        return self\n",
    "\n",
    "    @staticmethod\n",
    "    def __soft_thresholding(x, lmbda):\n",
    "        if x > 0 and lmbda < abs(x):\n",
    "            return x - lmbda\n",
    "        elif x < 0 and lmbda < abs(x):\n",
    "            return x + lmbda\n",
    "        return 0\n",
    "   "
   ]
  },
  {
   "cell_type": "markdown",
   "metadata": {},
   "source": [
    "# Test vs sklearn"
   ]
  },
  {
   "cell_type": "markdown",
   "metadata": {},
   "source": [
    "### Ridge Regression"
   ]
  },
  {
   "cell_type": "code",
   "execution_count": 13,
   "metadata": {},
   "outputs": [],
   "source": [
    "from sklearn.linear_model import Ridge"
   ]
  },
  {
   "cell_type": "code",
   "execution_count": 14,
   "metadata": {},
   "outputs": [],
   "source": [
    "m = Ridge(alpha=0.5).fit(X, y)\n"
   ]
  },
  {
   "cell_type": "code",
   "execution_count": 15,
   "metadata": {},
   "outputs": [
    {
     "data": {
      "text/plain": [
       "(array([85.09746966, 42.06663481, 73.32903535, 97.59210132, 27.71177308,\n",
       "        44.00689669,  8.25142817, 10.85535856, 62.33368936, 76.94600574]),\n",
       " 0.21416776015763106)"
      ]
     },
     "execution_count": 15,
     "metadata": {},
     "output_type": "execute_result"
    }
   ],
   "source": [
    "m.coef_, m.intercept_"
   ]
  },
  {
   "cell_type": "code",
   "execution_count": 16,
   "metadata": {},
   "outputs": [
    {
     "data": {
      "text/plain": [
       "coefficients: [85.09746966 42.06663481 73.32903535 97.59210132 27.71177308 44.00689669\n",
       "  8.25142817 10.85535856 62.33368936 76.94600574], \n",
       "\n",
       " intercept: 0.21416776015763317"
      ]
     },
     "execution_count": 16,
     "metadata": {},
     "output_type": "execute_result"
    }
   ],
   "source": [
    "q = RidgeReg(learning_rate=0.1, n_iter = 1000, alpha = 0.5)\n",
    "q.fit(X, y)\n"
   ]
  },
  {
   "cell_type": "code",
   "execution_count": 17,
   "metadata": {},
   "outputs": [],
   "source": [
    "predictors = np.ones(10)"
   ]
  },
  {
   "cell_type": "code",
   "execution_count": 18,
   "metadata": {},
   "outputs": [
    {
     "data": {
      "text/plain": [
       "array([528.19039273])"
      ]
     },
     "execution_count": 18,
     "metadata": {},
     "output_type": "execute_result"
    }
   ],
   "source": [
    "q.predict(predictors)"
   ]
  },
  {
   "cell_type": "code",
   "execution_count": 19,
   "metadata": {},
   "outputs": [
    {
     "data": {
      "text/plain": [
       "array([528.40456049])"
      ]
     },
     "execution_count": 19,
     "metadata": {},
     "output_type": "execute_result"
    }
   ],
   "source": [
    "m.predict(predictors.reshape(1, -1))"
   ]
  },
  {
   "cell_type": "markdown",
   "metadata": {},
   "source": [
    "### LASSO regression"
   ]
  },
  {
   "cell_type": "code",
   "execution_count": 119,
   "metadata": {},
   "outputs": [],
   "source": [
    "from sklearn.linear_model import Lasso"
   ]
  },
  {
   "cell_type": "code",
   "execution_count": 120,
   "metadata": {},
   "outputs": [],
   "source": [
    "X, y = make_regression(1000, 20, noise=20, n_informative=5)"
   ]
  },
  {
   "cell_type": "code",
   "execution_count": 121,
   "metadata": {},
   "outputs": [
    {
     "data": {
      "text/plain": [
       "array([ 0.00000000e+00,  7.91745523e+01,  9.45887573e+01,  0.00000000e+00,\n",
       "       -1.21180336e+00, -0.00000000e+00,  2.27903718e-01, -0.00000000e+00,\n",
       "       -0.00000000e+00, -0.00000000e+00,  3.76269861e-03,  0.00000000e+00,\n",
       "        4.36086775e+01,  2.77143229e+01,  0.00000000e+00, -4.20251017e-02,\n",
       "        7.82095059e+00,  0.00000000e+00, -0.00000000e+00, -0.00000000e+00])"
      ]
     },
     "execution_count": 121,
     "metadata": {},
     "output_type": "execute_result"
    }
   ],
   "source": [
    "las = Lasso(alpha=1).fit(X, y)\n",
    "las.coef_"
   ]
  },
  {
   "cell_type": "code",
   "execution_count": 122,
   "metadata": {},
   "outputs": [],
   "source": [
    "lasso_preds = np.ones(20)"
   ]
  },
  {
   "cell_type": "code",
   "execution_count": 123,
   "metadata": {},
   "outputs": [
    {
     "data": {
      "text/plain": [
       "array([250.45332243])"
      ]
     },
     "execution_count": 123,
     "metadata": {},
     "output_type": "execute_result"
    }
   ],
   "source": [
    "las.predict(lasso_preds.reshape(1,-1))"
   ]
  },
  {
   "cell_type": "code",
   "execution_count": 138,
   "metadata": {},
   "outputs": [
    {
     "data": {
      "text/plain": [
       "array([ 0.00000000e+00,  7.91747706e+01,  9.45887815e+01,  0.00000000e+00,\n",
       "       -1.21174371e+00,  0.00000000e+00,  2.27879987e-01,  0.00000000e+00,\n",
       "        0.00000000e+00,  0.00000000e+00,  3.74856756e-03,  0.00000000e+00,\n",
       "        4.36087014e+01,  2.77143190e+01,  0.00000000e+00, -4.20170957e-02,\n",
       "        7.82094724e+00,  0.00000000e+00,  0.00000000e+00,  0.00000000e+00])"
      ]
     },
     "execution_count": 138,
     "metadata": {},
     "output_type": "execute_result"
    }
   ],
   "source": [
    "las_sct = LASSOReg(alpha=1).fit(X, y)\n",
    "las_sct.coefs"
   ]
  },
  {
   "cell_type": "code",
   "execution_count": 139,
   "metadata": {},
   "outputs": [
    {
     "data": {
      "text/plain": [
       "array([251.88538748])"
      ]
     },
     "execution_count": 139,
     "metadata": {},
     "output_type": "execute_result"
    }
   ],
   "source": [
    "las_sct.predict(lasso_preds.reshape(1,-1))"
   ]
  },
  {
   "cell_type": "code",
   "execution_count": null,
   "metadata": {},
   "outputs": [],
   "source": []
  }
 ],
 "metadata": {
  "kernelspec": {
   "display_name": "Python 3",
   "language": "python",
   "name": "python3"
  },
  "language_info": {
   "codemirror_mode": {
    "name": "ipython",
    "version": 3
   },
   "file_extension": ".py",
   "mimetype": "text/x-python",
   "name": "python",
   "nbconvert_exporter": "python",
   "pygments_lexer": "ipython3",
   "version": "3.7.3"
  }
 },
 "nbformat": 4,
 "nbformat_minor": 2
}

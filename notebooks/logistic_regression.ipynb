{
 "cells": [
  {
   "cell_type": "code",
   "execution_count": 37,
   "metadata": {},
   "outputs": [],
   "source": [
    "import numpy as np\n",
    "from sklearn.datasets import make_blobs, make_regression\n",
    "import matplotlib.pyplot as plt\n",
    "from sklearn.linear_model import LogisticRegression\n",
    "from sklearn.model_selection import train_test_split"
   ]
  },
  {
   "cell_type": "code",
   "execution_count": 53,
   "metadata": {},
   "outputs": [
    {
     "data": {
      "text/plain": [
       "(500, 2)"
      ]
     },
     "execution_count": 53,
     "metadata": {},
     "output_type": "execute_result"
    }
   ],
   "source": [
    "X, y = make_blobs(centers=2, n_samples=500, )\n",
    "X.shape"
   ]
  },
  {
   "cell_type": "code",
   "execution_count": 54,
   "metadata": {},
   "outputs": [],
   "source": [
    "X, Xp, y, yp = train_test_split(X, y, test_size=0.01, random_state=42)"
   ]
  },
  {
   "cell_type": "code",
   "execution_count": 55,
   "metadata": {},
   "outputs": [
    {
     "data": {
      "text/plain": [
       "array([-3.20116368, -4.85979173])"
      ]
     },
     "execution_count": 55,
     "metadata": {},
     "output_type": "execute_result"
    }
   ],
   "source": [
    "X[0]"
   ]
  },
  {
   "cell_type": "code",
   "execution_count": 56,
   "metadata": {},
   "outputs": [
    {
     "data": {
      "text/plain": [
       "0"
      ]
     },
     "execution_count": 56,
     "metadata": {},
     "output_type": "execute_result"
    }
   ],
   "source": [
    "y[0]"
   ]
  },
  {
   "cell_type": "code",
   "execution_count": 57,
   "metadata": {},
   "outputs": [
    {
     "data": {
      "text/plain": [
       "<matplotlib.collections.PathCollection at 0x7f8b3a6bd390>"
      ]
     },
     "execution_count": 57,
     "metadata": {},
     "output_type": "execute_result"
    },
    {
     "data": {
      "image/png": "[encoded data removed]",
      "text/plain": [
       "<Figure size 432x288 with 1 Axes>"
      ]
     },
     "metadata": {
      "needs_background": "light"
     },
     "output_type": "display_data"
    }
   ],
   "source": [
    "plt.scatter([x[0] for x in X], [x[1] for x in X])"
   ]
  },
  {
   "cell_type": "code",
   "execution_count": 43,
   "metadata": {},
   "outputs": [],
   "source": [
    "class LinearBase(object):\n",
    "    \n",
    "    \"\"\"Base class for linear models\"\"\"\n",
    "    \n",
    "    def __init__(self, learning_rate, n_iter):\n",
    "        self.learning_rate = learning_rate\n",
    "        self.n_iter = n_iter\n",
    "\n",
    "    def fit(self, X, y):\n",
    "        \"\"\"\n",
    "        Fit using gradient descent.\n",
    "        \"\"\"\n",
    "        for i in range(self.n_iter):\n",
    "\n",
    "            error = self._error(X, y, self.theta)\n",
    "\n",
    "            # update gradients \n",
    "            gradients = 2 / self.m * X.T.dot(error)\n",
    "        \n",
    "            # update theta \n",
    "            self.theta -= self.learning_rate * gradients\n",
    "            \n",
    "    def _error(self, X, y, theta):\n",
    "        return X.dot(theta) - y.reshape(-1,1)\n",
    "\n",
    "    def predict(self, X):\n",
    "        xm, xn = X.shape\n",
    "        \n",
    "        if not self.fitted:\n",
    "            raise Exception(f\"{__class__.__name__} is not yet fitted.\")\n",
    "            \n",
    "        if len(X.shape) == 1:\n",
    "            X = X.reshape(1,-1)\n",
    "            \n",
    "        if xn != self.n:\n",
    "            raise Exception(f\"Input data shape must be equal to fit data shape {self.n}\")\n",
    "            \n",
    "        if xn == 1:\n",
    "            return X.dot(self.coefs) + self.intercept\n",
    "        \n",
    "        return X.dot(self.coefs)\n",
    "    \n",
    "    def __repr__(self):\n",
    "        if self.fitted:\n",
    "            return f\"coefficients: {self.coefs}, \\n\\n intercept: {self.intercept}\"\n",
    "        return self.__class__.__name__\n"
   ]
  },
  {
   "cell_type": "code",
   "execution_count": 44,
   "metadata": {},
   "outputs": [],
   "source": [
    "class LogReg(LinearBase):\n",
    "\n",
    "    def __init__(self, learning_rate = 0.01, n_iter = 1000):\n",
    "        super().__init__(learning_rate, n_iter)\n",
    "        self.coefs = None\n",
    "        self.intercept = None\n",
    "        self.fitted = False \n",
    "\n",
    "    def fit(self, X, y):\n",
    "        \n",
    "        self.m, self.n = X.shape\n",
    "                 \n",
    "        # add 1s for bias \n",
    "        xb = np.hstack((np.ones((self.m, 1)), X))\n",
    "\n",
    "        # initiate coefs\n",
    "        self.theta = np.ones((xb.shape[1], 1))\n",
    "        \n",
    "        for step in range(self.n_iter):\n",
    "            \n",
    "  \n",
    "            error = self.sigmoid(xb.dot(self.theta)) - y.reshape(-1,1)\n",
    "\n",
    "            # update gradients \n",
    "            gradients = 2 / self.m * xb.T.dot(error)\n",
    "        \n",
    "            # update theta \n",
    "            self.theta -= self.learning_rate * gradients\n",
    "            \n",
    "        \n",
    "        self.coefs = self.theta[1:].flatten()\n",
    "        self.intercept = self.theta[0].flatten()\n",
    "        self.fitted = True\n",
    "        return self\n",
    "    \n",
    "    @staticmethod\n",
    "    def sigmoid(z):\n",
    "        return 1 / (1 + np.exp(-z)) \n",
    "\n",
    "    def predict_proba(self, X):\n",
    "        return self.sigmoid(super().predict(X))\n",
    "\n",
    "    def predict(self, X, threshold = .5):\n",
    "        return np.where(self.predict_proba(X) > threshold, 1, 0)"
   ]
  },
  {
   "cell_type": "code",
   "execution_count": 45,
   "metadata": {},
   "outputs": [],
   "source": [
    "# X, y = make_regression(100, 2, noise = 1)"
   ]
  },
  {
   "cell_type": "code",
   "execution_count": 46,
   "metadata": {},
   "outputs": [
    {
     "data": {
      "text/plain": [
       "coefficients: [ 2.02846225 -0.10505343], \n",
       "\n",
       " intercept: [0.71834417]"
      ]
     },
     "execution_count": 46,
     "metadata": {},
     "output_type": "execute_result"
    }
   ],
   "source": [
    "l = LogReg(n_iter=10000).fit(X, y)\n",
    "l"
   ]
  },
  {
   "cell_type": "code",
   "execution_count": 47,
   "metadata": {},
   "outputs": [
    {
     "data": {
      "text/plain": [
       "array([2.88714598e-04, 1.01157256e-04, 3.47357147e-06, 2.34662364e-06,\n",
       "       1.81975980e-05, 1.56044961e-04, 9.34772390e-05, 9.99999929e-01,\n",
       "       9.99999883e-01, 9.99999683e-01])"
      ]
     },
     "execution_count": 47,
     "metadata": {},
     "output_type": "execute_result"
    }
   ],
   "source": [
    "l.predict_proba(Xp)"
   ]
  },
  {
   "cell_type": "code",
   "execution_count": 48,
   "metadata": {},
   "outputs": [
    {
     "data": {
      "text/plain": [
       "array([0, 0, 0, 0, 0, 0, 0, 1, 1, 1])"
      ]
     },
     "execution_count": 48,
     "metadata": {},
     "output_type": "execute_result"
    }
   ],
   "source": [
    "preds = l.predict(Xp)\n",
    "preds"
   ]
  },
  {
   "cell_type": "code",
   "execution_count": 49,
   "metadata": {},
   "outputs": [
    {
     "name": "stderr",
     "output_type": "stream",
     "text": [
      "/Users/tommywatts/anaconda3/lib/python3.7/site-packages/sklearn/linear_model/logistic.py:433: FutureWarning: Default solver will be changed to 'lbfgs' in 0.22. Specify a solver to silence this warning.\n",
      "  FutureWarning)\n"
     ]
    }
   ],
   "source": [
    "logit = LogisticRegression().fit(X, y)"
   ]
  },
  {
   "cell_type": "code",
   "execution_count": 50,
   "metadata": {},
   "outputs": [
    {
     "data": {
      "text/plain": [
       "(array([[ 1.4305103 , -0.35089206]]), array([-0.18161648]))"
      ]
     },
     "execution_count": 50,
     "metadata": {},
     "output_type": "execute_result"
    }
   ],
   "source": [
    "logit.coef_, logit.intercept_"
   ]
  },
  {
   "cell_type": "code",
   "execution_count": 51,
   "metadata": {},
   "outputs": [
    {
     "data": {
      "text/plain": [
       "array([[9.98737951e-01, 1.26204857e-03],\n",
       "       [9.99336976e-01, 6.63024085e-04],\n",
       "       [9.99898215e-01, 1.01784972e-04],\n",
       "       [9.99959436e-01, 4.05636393e-05],\n",
       "       [9.99780017e-01, 2.19982813e-04],\n",
       "       [9.99257929e-01, 7.42071076e-04],\n",
       "       [9.99565029e-01, 4.34971255e-04],\n",
       "       [6.15022633e-05, 9.99938498e-01],\n",
       "       [1.49706609e-04, 9.99850293e-01],\n",
       "       [3.32733473e-04, 9.99667267e-01]])"
      ]
     },
     "execution_count": 51,
     "metadata": {},
     "output_type": "execute_result"
    }
   ],
   "source": [
    "logit.predict_proba(Xp)"
   ]
  },
  {
   "cell_type": "code",
   "execution_count": 52,
   "metadata": {},
   "outputs": [
    {
     "data": {
      "text/plain": [
       "array([0, 0, 0, 0, 0, 0, 0, 1, 1, 1])"
      ]
     },
     "execution_count": 52,
     "metadata": {},
     "output_type": "execute_result"
    }
   ],
   "source": [
    "logit.predict(Xp)"
   ]
  },
  {
   "cell_type": "code",
   "execution_count": null,
   "metadata": {},
   "outputs": [],
   "source": []
  }
 ],
 "metadata": {
  "kernelspec": {
   "display_name": "Python 3",
   "language": "python",
   "name": "python3"
  },
  "language_info": {
   "codemirror_mode": {
    "name": "ipython",
    "version": 3
   },
   "file_extension": ".py",
   "mimetype": "text/x-python",
   "name": "python",
   "nbconvert_exporter": "python",
   "pygments_lexer": "ipython3",
   "version": "3.7.4"
  }
 },
 "nbformat": 4,
 "nbformat_minor": 2
}

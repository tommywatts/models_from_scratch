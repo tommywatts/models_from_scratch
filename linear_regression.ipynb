{
 "cells": [
  {
   "cell_type": "code",
   "execution_count": 1,
   "metadata": {},
   "outputs": [],
   "source": [
    "import numpy as np\n",
    "from sklearn.datasets import make_regression\n",
    "import matplotlib.pyplot as plt\n",
    "from sklearn.linear_model import LinearRegression"
   ]
  },
  {
   "cell_type": "markdown",
   "metadata": {},
   "source": [
    "# O'Reilly"
   ]
  },
  {
   "cell_type": "code",
   "execution_count": 5,
   "metadata": {},
   "outputs": [],
   "source": [
    "X = 2 * np.random.rand(100, 1)\n",
    "y = 4 + 3 * X + np.random.rand(100, 1)"
   ]
  },
  {
   "cell_type": "code",
   "execution_count": 6,
   "metadata": {},
   "outputs": [],
   "source": [
    "xb = np.c_[np.ones((100,1)), X]"
   ]
  },
  {
   "cell_type": "code",
   "execution_count": 7,
   "metadata": {},
   "outputs": [
    {
     "data": {
      "text/plain": [
       "<matplotlib.collections.PathCollection at 0x7fae76f83f60>"
      ]
     },
     "execution_count": 7,
     "metadata": {},
     "output_type": "execute_result"
    },
    {
     "data": {
      "image/png": "[encoded data removed]",
      "text/plain": [
       "<Figure size 432x288 with 1 Axes>"
      ]
     },
     "metadata": {
      "needs_background": "light"
     },
     "output_type": "display_data"
    }
   ],
   "source": [
    "plt.scatter(X, y)"
   ]
  },
  {
   "cell_type": "code",
   "execution_count": 8,
   "metadata": {},
   "outputs": [
    {
     "data": {
      "text/plain": [
       "array([[1.],\n",
       "       [1.]])"
      ]
     },
     "execution_count": 8,
     "metadata": {},
     "output_type": "execute_result"
    }
   ],
   "source": [
    "alpha = 0.1\n",
    "n_iters = 100\n",
    "N = xb.shape[0]\n",
    "\n",
    "#theta = np.random.rand(xb.shape[1], 1)\n",
    "theta = np.ones((xb.shape[1], 1))\n",
    "theta"
   ]
  },
  {
   "cell_type": "code",
   "execution_count": 9,
   "metadata": {},
   "outputs": [],
   "source": [
    "for step in range(n_iters):\n",
    "    gradients = 2/N * xb.T.dot(xb.dot(theta) - y.reshape(-1,1))\n",
    "    theta = theta - alpha * gradients"
   ]
  },
  {
   "cell_type": "code",
   "execution_count": 20,
   "metadata": {},
   "outputs": [
    {
     "data": {
      "text/plain": [
       "array([[4.45392509],\n",
       "       [3.055927  ]])"
      ]
     },
     "execution_count": 20,
     "metadata": {},
     "output_type": "execute_result"
    }
   ],
   "source": [
    "theta"
   ]
  },
  {
   "cell_type": "code",
   "execution_count": 21,
   "metadata": {},
   "outputs": [
    {
     "data": {
      "text/plain": [
       "(array([[3.0329217]]), array([4.47967888]))"
      ]
     },
     "execution_count": 21,
     "metadata": {},
     "output_type": "execute_result"
    }
   ],
   "source": [
    "lr = LinearRegression().fit(X, y)\n",
    "lr.coef_, lr.intercept_"
   ]
  },
  {
   "cell_type": "markdown",
   "metadata": {},
   "source": [
    "# Own"
   ]
  },
  {
   "cell_type": "code",
   "execution_count": 22,
   "metadata": {},
   "outputs": [],
   "source": [
    "from sklearn.metrics import mean_squared_error"
   ]
  },
  {
   "cell_type": "code",
   "execution_count": 32,
   "metadata": {},
   "outputs": [],
   "source": [
    "# data\n",
    "X, y = make_regression(100000, 3)"
   ]
  },
  {
   "cell_type": "code",
   "execution_count": 33,
   "metadata": {},
   "outputs": [
    {
     "data": {
      "text/plain": [
       "array([[ 1.01708407, -0.30916718,  0.51675762],\n",
       "       [ 0.67547534,  0.84956804, -1.89146088],\n",
       "       [ 0.47789659,  1.07887494,  0.7558294 ],\n",
       "       [-0.8937611 , -0.26430952,  0.75807542],\n",
       "       [ 0.25232805,  1.50425666, -0.7498876 ]])"
      ]
     },
     "execution_count": 33,
     "metadata": {},
     "output_type": "execute_result"
    }
   ],
   "source": [
    "X[:5]"
   ]
  },
  {
   "cell_type": "code",
   "execution_count": 34,
   "metadata": {},
   "outputs": [
    {
     "data": {
      "text/plain": [
       "array([ 91.2554619 ,  30.24041374,  52.55704993, -63.65236688,\n",
       "        12.86192617])"
      ]
     },
     "execution_count": 34,
     "metadata": {},
     "output_type": "execute_result"
    }
   ],
   "source": [
    "y[:5]"
   ]
  },
  {
   "cell_type": "code",
   "execution_count": 35,
   "metadata": {},
   "outputs": [],
   "source": [
    "class Linreg():\n",
    "    \n",
    "    \"\"\" Linear Regression \"\"\"\n",
    "    \n",
    "    def __init__(self, alpha, n_iter):\n",
    "        self.alpha = alpha\n",
    "        self.n_iter = n_iter\n",
    "        self.input_dim = None\n",
    "        self.coefs = None\n",
    "        self.intercept = None\n",
    "        self.fitted = False\n",
    "\n",
    "    def fit(self, X, y, optimization='normal', verbose=None):\n",
    "        self.input_dim = X.shape[1]\n",
    "        \n",
    "        # add 1s\n",
    "        xb = np.c_[np.ones((X.shape[0],1)), X]\n",
    "        \n",
    "        # initiate coefs\n",
    "        theta = np.ones((xb.shape[1], 1))\n",
    "        \n",
    "        # get m\n",
    "        m = xb.shape[0]\n",
    "        \n",
    "        # normal equation\n",
    "        if optimization=='normal':\n",
    "            if m < 50000:\n",
    "                theta = np.linalg.inv(xb.T.dot(xb)).dot(xb.T).dot(y)\n",
    "            else:\n",
    "                print(f\"Dataset is too large ({m} rows) for normal optimization, switching to gradient descent\")\n",
    "                optimization = 'gradient_descent'\n",
    "        \n",
    "        # gradient descent\n",
    "        if optimization=='gradient_descent':\n",
    "            for step in range(self.n_iter):\n",
    "\n",
    "                # compute error\n",
    "                error = self.__error(xb, y, theta)\n",
    "\n",
    "                # mse\n",
    "                mse = (error ** 2).mean()\n",
    "\n",
    "                # update coefs            \n",
    "                theta = theta - (self.alpha * (1 / m) * np.dot(xb.T, error))\n",
    "            \n",
    "        # fit instances\n",
    "        self.coefs = theta[1:]\n",
    "        self.intercept = theta[0]\n",
    "        self.fitted = True\n",
    "        return self\n",
    "        \n",
    "    \n",
    "    @staticmethod\n",
    "    def __error(X, y, theta):\n",
    "        return X.dot(theta) - y.reshape(-1,1)\n",
    "            \n",
    "    def predict(self, X):\n",
    "        if not self.fitted:\n",
    "            raise Exception(\"Linreg is not yet fitted.\")\n",
    "        if len(X.shape) == 1:\n",
    "            X = X.reshape(1,-1)\n",
    "        if X.shape[1] != self.input_dim:\n",
    "            raise Exception(f\"Input data shape must be equal to fit data shape {self.input_dim}\")\n",
    "        return X.dot(self.coefs)\n",
    "                \n",
    "\n",
    "    def __repr__(self):\n",
    "        if self.fitted:\n",
    "            return f\"coefficients: {self.coefs}, \\n\\n intercept: {self.intercept}\"\n",
    "        else:\n",
    "            return \"Linreg\""
   ]
  },
  {
   "cell_type": "code",
   "execution_count": 36,
   "metadata": {},
   "outputs": [
    {
     "data": {
      "text/plain": [
       "Linreg"
      ]
     },
     "execution_count": 36,
     "metadata": {},
     "output_type": "execute_result"
    }
   ],
   "source": [
    "l = Linreg(0.1, 10000)\n",
    "l"
   ]
  },
  {
   "cell_type": "code",
   "execution_count": 37,
   "metadata": {},
   "outputs": [
    {
     "name": "stdout",
     "output_type": "stream",
     "text": [
      "Dataset is too large (100000 rows) for normal optimization, switching to gradient descent\n"
     ]
    },
    {
     "data": {
      "text/plain": [
       "coefficients: [[82.937186  ]\n",
       " [ 1.84670454]\n",
       " [14.45999333]], \n",
       "\n",
       " intercept: [-4.68283202e-17]"
      ]
     },
     "execution_count": 37,
     "metadata": {},
     "output_type": "execute_result"
    }
   ],
   "source": [
    "l.fit(X, y)"
   ]
  },
  {
   "cell_type": "code",
   "execution_count": 38,
   "metadata": {},
   "outputs": [],
   "source": [
    "x = LinearRegression(fit_intercept=True).fit(X, y)"
   ]
  },
  {
   "cell_type": "code",
   "execution_count": 39,
   "metadata": {},
   "outputs": [
    {
     "data": {
      "text/plain": [
       "(array([82.937186  ,  1.84670454, 14.45999333]), -5.030698080332741e-16)"
      ]
     },
     "execution_count": 39,
     "metadata": {},
     "output_type": "execute_result"
    }
   ],
   "source": [
    "x.coef_, x.intercept_"
   ]
  },
  {
   "cell_type": "code",
   "execution_count": null,
   "metadata": {},
   "outputs": [],
   "source": []
  },
  {
   "cell_type": "code",
   "execution_count": null,
   "metadata": {},
   "outputs": [],
   "source": []
  }
 ],
 "metadata": {
  "kernelspec": {
   "display_name": "Python 3",
   "language": "python",
   "name": "python3"
  },
  "language_info": {
   "codemirror_mode": {
    "name": "ipython",
    "version": 3
   },
   "file_extension": ".py",
   "mimetype": "text/x-python",
   "name": "python",
   "nbconvert_exporter": "python",
   "pygments_lexer": "ipython3",
   "version": "3.7.3"
  }
 },
 "nbformat": 4,
 "nbformat_minor": 2
}

{
 "cells": [
  {
   "cell_type": "code",
   "execution_count": 1,
   "metadata": {},
   "outputs": [],
   "source": [
    "import numpy as np\n",
    "from sklearn.datasets import make_regression\n",
    "import matplotlib.pyplot as plt\n",
    "from sklearn.linear_model import LinearRegression"
   ]
  },
  {
   "cell_type": "code",
   "execution_count": null,
   "metadata": {},
   "outputs": [],
   "source": []
  },
  {
   "cell_type": "code",
   "execution_count": 8,
   "metadata": {},
   "outputs": [],
   "source": [
    "X = 2 * np.random.rand(10, 1)\n",
    "y = 4 + 3 * X + np.random.rand(10, 1)\n",
    "xb = np.c_[np.ones((10,1)), X]"
   ]
  },
  {
   "cell_type": "code",
   "execution_count": 54,
   "metadata": {},
   "outputs": [],
   "source": [
    "class ridge_regression():\n",
    "    def __init__(self, alpha, lmbda, n_iter):\n",
    "        self.alpha = alpha\n",
    "        self.lmbda = lmbda\n",
    "        self.n_iter = n_iter\n",
    "        self.input_dim = None\n",
    "        self.coefs = None\n",
    "        self.intercept = None\n",
    "        self.fitted = False\n",
    "    \n",
    "    def fit(self, X, y, optimization='normal', verbose=None):\n",
    "        self.input_dim = X.shape[1]\n",
    "        \n",
    "        # add 1s\n",
    "        xb = np.c_[np.ones((X.shape[0],1)), X]\n",
    "        \n",
    "        # initiate coefs\n",
    "        theta = np.ones((xb.shape[1], 1))\n",
    "        \n",
    "        # get m\n",
    "        m = xb.shape[0]\n",
    "        \n",
    "        # normal equation\n",
    "        if optimization=='normal':\n",
    "            if m < 50000:\n",
    "                # identity matrix\n",
    "                id_m = np.eye(len(theta))\n",
    "                id_m[0][0] = 0\n",
    "                \n",
    "                # regularize\n",
    "                A = self.lmbda * id_m  \n",
    "                theta = np.linalg.inv(xb.T.dot(xb) + A).dot(xb.T).dot(y)\n",
    "            else:\n",
    "                print(f\"Dataset is too large ({m} rows) for normal optimization, switching to gradient descent\")\n",
    "                optimization = 'gradient_descent'\n",
    "                \n",
    "        if optimization=='gradient_descent':\n",
    "            pass\n",
    "        \n",
    "        self.coefs = theta[1:]\n",
    "        self.intercept = theta[0]\n",
    "        self.fitted = True\n",
    "        return self\n",
    "    \n",
    "    @staticmethod\n",
    "    def __error(X, y, theta):\n",
    "        return None\n",
    "    \n",
    "    def __repr__(self):\n",
    "        if self.fitted:\n",
    "            return f\"coefficients: {self.coefs}, \\n\\n intercept: {self.intercept}\"\n",
    "        else:\n",
    "            return \"Linreg\""
   ]
  },
  {
   "cell_type": "code",
   "execution_count": 55,
   "metadata": {},
   "outputs": [],
   "source": [
    "from sklearn.linear_model import Ridge"
   ]
  },
  {
   "cell_type": "code",
   "execution_count": 56,
   "metadata": {},
   "outputs": [],
   "source": [
    "m = Ridge().fit(X, y)"
   ]
  },
  {
   "cell_type": "code",
   "execution_count": 57,
   "metadata": {},
   "outputs": [
    {
     "data": {
      "text/plain": [
       "(array([[2.48781674]]), array([5.17185466]))"
      ]
     },
     "execution_count": 57,
     "metadata": {},
     "output_type": "execute_result"
    }
   ],
   "source": [
    "m.coef_, m.intercept_"
   ]
  },
  {
   "cell_type": "code",
   "execution_count": 58,
   "metadata": {},
   "outputs": [
    {
     "data": {
      "text/plain": [
       "coefficients: [[3.29159997]], \n",
       "\n",
       " intercept: [3.90657054]"
      ]
     },
     "execution_count": 58,
     "metadata": {},
     "output_type": "execute_result"
    }
   ],
   "source": [
    "q = ridge_regression(1, 1, 10)\n",
    "q.fit(X, y)"
   ]
  },
  {
   "cell_type": "code",
   "execution_count": 42,
   "metadata": {},
   "outputs": [
    {
     "data": {
      "text/plain": [
       "True"
      ]
     },
     "execution_count": 42,
     "metadata": {},
     "output_type": "execute_result"
    }
   ],
   "source": [
    "q.fitted"
   ]
  },
  {
   "cell_type": "code",
   "execution_count": 3,
   "metadata": {},
   "outputs": [],
   "source": [
    "class lasso_regression():\n",
    "    pass"
   ]
  },
  {
   "cell_type": "code",
   "execution_count": 4,
   "metadata": {},
   "outputs": [],
   "source": [
    "class elastic_net_regression():\n",
    "    pass"
   ]
  },
  {
   "cell_type": "code",
   "execution_count": null,
   "metadata": {},
   "outputs": [],
   "source": []
  }
 ],
 "metadata": {
  "kernelspec": {
   "display_name": "Python 3",
   "language": "python",
   "name": "python3"
  },
  "language_info": {
   "codemirror_mode": {
    "name": "ipython",
    "version": 3
   },
   "file_extension": ".py",
   "mimetype": "text/x-python",
   "name": "python",
   "nbconvert_exporter": "python",
   "pygments_lexer": "ipython3",
   "version": "3.7.3"
  }
 },
 "nbformat": 4,
 "nbformat_minor": 2
}

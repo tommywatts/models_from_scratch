{
 "cells": [
  {
   "cell_type": "code",
   "execution_count": 1,
   "metadata": {},
   "outputs": [],
   "source": [
    "import numpy as np\n",
    "from sklearn.datasets import make_regression\n",
    "import matplotlib.pyplot as plt\n",
    "from sklearn.linear_model import LinearRegression"
   ]
  },
  {
   "cell_type": "code",
   "execution_count": null,
   "metadata": {},
   "outputs": [],
   "source": []
  },
  {
   "cell_type": "code",
   "execution_count": 85,
   "metadata": {},
   "outputs": [],
   "source": [
    "X, y = make_regression(10000, 10, noise=20)"
   ]
  },
  {
   "cell_type": "code",
   "execution_count": null,
   "metadata": {},
   "outputs": [],
   "source": []
  },
  {
   "cell_type": "code",
   "execution_count": 86,
   "metadata": {},
   "outputs": [],
   "source": [
    "class LinearBase:\n",
    "    def __init__(self, learning_rate, n_iter):\n",
    "        self.learning_rate = learning_rate if learning_rate else 0.1\n",
    "        self.n_iter = n_iter if n_iter else 1000\n",
    "        self.input_dim = None\n",
    "        self.coefs = None\n",
    "        self.intercept = None\n",
    "        self.fitted = False \n",
    "        \n",
    "    def _error(self, X, y, theta):\n",
    "        return X.dot(theta) - y.reshape(-1,1)\n",
    "    \n",
    "    def predict(self, X):\n",
    "        if not self.fitted:\n",
    "            raise Exception(\"Linreg is not yet fitted.\")\n",
    "        if len(X.shape) == 1:\n",
    "            X = X.reshape(1,-1)\n",
    "        if X.shape[1] != self.input_dim:\n",
    "            raise Exception(f\"Input data shape must be equal to fit data shape {self.input_dim}\")\n",
    "        if X.shape[1] == 1:\n",
    "            return X.dot(self.coefs) + self.intercept\n",
    "        return X.dot(self.coefs)\n",
    "    \n",
    "    def __repr__(self):\n",
    "        if self.fitted:\n",
    "            return f\"coefficients: {self.coefs}, \\n\\n intercept: {self.intercept}\"\n",
    "        else:\n",
    "            return \"Linreg\"    "
   ]
  },
  {
   "cell_type": "code",
   "execution_count": 102,
   "metadata": {},
   "outputs": [],
   "source": [
    "class RidgeReg(LinearBase):\n",
    "    def __init__(self, learning_rate, n_iter, alpha):\n",
    "        super().__init__(learning_rate, n_iter)\n",
    "        self.alpha = alpha\n",
    "\n",
    "    def fit(self, X, y, optimization='normal', verbose=None):\n",
    "        self.input_dim = X.shape[1]\n",
    "        \n",
    "        # add 1s\n",
    "        xb = np.c_[np.ones((X.shape[0],1)), X]\n",
    "        \n",
    "        # initiate coefs\n",
    "        theta = np.ones((xb.shape[1], 1))\n",
    "        \n",
    "        # get m\n",
    "        m = xb.shape[0]\n",
    "        \n",
    "        # normal equation\n",
    "        if optimization=='normal':\n",
    "            if m < 50000:\n",
    "                \n",
    "                # identity matrix\n",
    "                id_m = np.eye(len(theta))\n",
    "                id_m[0][0] = 0\n",
    "                A = self.lmbda * id_m  \n",
    "                \n",
    "                # coefficients\n",
    "                theta = np.linalg.inv(xb.T.dot(xb) + A).dot(xb.T).dot(y)\n",
    "            else:\n",
    "                optimization = 'gradient_descent'\n",
    "                \n",
    "        if optimization=='gradient_descent':\n",
    "            for step in range(self.n_iter):\n",
    "                \n",
    "                # compute error\n",
    "                error = self._error(xb, y, theta)\n",
    "\n",
    "                # update coefficients            \n",
    "                theta = theta - (self.learning_rate / m) * (np.dot(xb.T, error) + (2 * self.alpha * theta))\n",
    "        \n",
    "        self.coefs = theta[1:]\n",
    "        self.intercept = theta[0]\n",
    "        self.fitted = True\n",
    "        return self\n",
    "   "
   ]
  },
  {
   "cell_type": "code",
   "execution_count": 138,
   "metadata": {},
   "outputs": [],
   "source": [
    "class LASSOReg(LinearBase):\n",
    "    \n",
    "    def __init__(self, learning_rate=None, n_iter=None, alpha=0.5):\n",
    "        super().__init__(learning_rate, n_iter)\n",
    "        self.alpha = alpha\n",
    "\n",
    "    def fit(self, X, y, verbose=None):\n",
    "        self.input_dim = X.shape[1]\n",
    "        \n",
    "        # add 1s\n",
    "        xb = np.c_[np.ones((X.shape[0],1)), X]\n",
    "        \n",
    "        # initiate coefs\n",
    "        theta = np.ones((xb.shape[1], 1))\n",
    "        \n",
    "        # get m\n",
    "        m = xb.shape[0]\n",
    "                \n",
    "        for step in range(self.n_iter):\n",
    "            \n",
    "            \"\"\"\n",
    "            TODO:\n",
    "            1. implement coordinate descent\n",
    "            \"\"\"\n",
    "            \n",
    "        self.coefs = theta[1:]\n",
    "        self.intercept = theta[0]\n",
    "        self.fitted = True\n",
    "        return self\n",
    "\n",
    "\n",
    "\n",
    "   "
   ]
  },
  {
   "cell_type": "code",
   "execution_count": 137,
   "metadata": {},
   "outputs": [
    {
     "data": {
      "text/plain": [
       "array([-1,  0,  1])"
      ]
     },
     "execution_count": 137,
     "metadata": {},
     "output_type": "execute_result"
    }
   ],
   "source": [
    "np.sign(theta)"
   ]
  },
  {
   "cell_type": "markdown",
   "metadata": {},
   "source": [
    "# Test vs sklearn"
   ]
  },
  {
   "cell_type": "markdown",
   "metadata": {},
   "source": [
    "### Ridge Regression"
   ]
  },
  {
   "cell_type": "code",
   "execution_count": 89,
   "metadata": {},
   "outputs": [],
   "source": [
    "from sklearn.linear_model import Ridge"
   ]
  },
  {
   "cell_type": "code",
   "execution_count": 90,
   "metadata": {},
   "outputs": [],
   "source": [
    "m = Ridge(alpha=0.5).fit(X, y)\n"
   ]
  },
  {
   "cell_type": "code",
   "execution_count": 91,
   "metadata": {},
   "outputs": [
    {
     "data": {
      "text/plain": [
       "(array([62.64882161, 41.43684702, 14.93648762, 12.31104783, 34.08459059,\n",
       "        91.69615873, 94.12856807, 53.06186815, 44.76255634, 20.08012833]),\n",
       " -0.5244494056014901)"
      ]
     },
     "execution_count": 91,
     "metadata": {},
     "output_type": "execute_result"
    }
   ],
   "source": [
    "m.coef_, m.intercept_"
   ]
  },
  {
   "cell_type": "code",
   "execution_count": 92,
   "metadata": {},
   "outputs": [
    {
     "data": {
      "text/plain": [
       "coefficients: [62.64882161 41.43684702 14.93648762 12.31104783 34.08459059 91.69615873\n",
       " 94.12856807 53.06186815 44.76255634 20.08012833], \n",
       "\n",
       " intercept: -0.5244494056014929"
      ]
     },
     "execution_count": 92,
     "metadata": {},
     "output_type": "execute_result"
    }
   ],
   "source": [
    "q = RidgeReg(learning_rate=0.1, n_iter = 1000, alpha = 0.5)\n",
    "q.fit(X, y,)\n"
   ]
  },
  {
   "cell_type": "code",
   "execution_count": 93,
   "metadata": {},
   "outputs": [],
   "source": [
    "predictors = np.ones(10)"
   ]
  },
  {
   "cell_type": "code",
   "execution_count": 94,
   "metadata": {},
   "outputs": [
    {
     "data": {
      "text/plain": [
       "array([469.14707428])"
      ]
     },
     "execution_count": 94,
     "metadata": {},
     "output_type": "execute_result"
    }
   ],
   "source": [
    "q.predict(predictors)"
   ]
  },
  {
   "cell_type": "code",
   "execution_count": 95,
   "metadata": {},
   "outputs": [
    {
     "data": {
      "text/plain": [
       "array([468.62262488])"
      ]
     },
     "execution_count": 95,
     "metadata": {},
     "output_type": "execute_result"
    }
   ],
   "source": [
    "m.predict(predictors.reshape(1, -1))"
   ]
  },
  {
   "cell_type": "code",
   "execution_count": null,
   "metadata": {},
   "outputs": [],
   "source": []
  },
  {
   "cell_type": "markdown",
   "metadata": {},
   "source": [
    "### LASSO regression"
   ]
  },
  {
   "cell_type": "code",
   "execution_count": 96,
   "metadata": {},
   "outputs": [],
   "source": [
    "from sklearn.linear_model import Lasso"
   ]
  },
  {
   "cell_type": "code",
   "execution_count": 97,
   "metadata": {},
   "outputs": [],
   "source": [
    "X, y = make_regression(1000, 20, noise=20, n_informative=5)"
   ]
  },
  {
   "cell_type": "code",
   "execution_count": 132,
   "metadata": {},
   "outputs": [
    {
     "data": {
      "text/plain": [
       "array([50.02009567,  0.        , -0.        , -0.        , -0.        ,\n",
       "       82.05011941,  0.        , -0.        , -0.        ,  0.        ,\n",
       "       30.70177362,  0.        , 46.99078848,  0.        ,  0.        ,\n",
       "       -0.        ,  0.        ,  0.        , -0.        , 63.75255754])"
      ]
     },
     "execution_count": 132,
     "metadata": {},
     "output_type": "execute_result"
    }
   ],
   "source": [
    "las = Lasso(alpha=1).fit(X, y)\n",
    "las.coef_"
   ]
  },
  {
   "cell_type": "code",
   "execution_count": 133,
   "metadata": {},
   "outputs": [],
   "source": [
    "lasso_preds = np.ones(20)"
   ]
  },
  {
   "cell_type": "code",
   "execution_count": 134,
   "metadata": {},
   "outputs": [
    {
     "data": {
      "text/plain": [
       "array([273.55470627])"
      ]
     },
     "execution_count": 134,
     "metadata": {},
     "output_type": "execute_result"
    }
   ],
   "source": [
    "las.predict(lasso_preds.reshape(1,-1))"
   ]
  },
  {
   "cell_type": "code",
   "execution_count": 139,
   "metadata": {},
   "outputs": [
    {
     "data": {
      "text/plain": [
       "coefficients: [[ 5.10564821e+01]\n",
       " [ 1.13757017e-01]\n",
       " [-8.01567470e-02]\n",
       " [-8.43561522e-01]\n",
       " [ 7.92026810e-02]\n",
       " [ 8.28942097e+01]\n",
       " [ 1.79763426e-01]\n",
       " [ 4.50428850e-02]\n",
       " [-7.70310919e-01]\n",
       " [ 1.47880896e-01]\n",
       " [ 3.16002453e+01]\n",
       " [ 5.70324960e-01]\n",
       " [ 4.81089473e+01]\n",
       " [ 4.07617276e-01]\n",
       " [ 5.55502819e-01]\n",
       " [-5.19854768e-01]\n",
       " [ 3.94942480e-01]\n",
       " [ 2.36351964e-01]\n",
       " [-2.16184721e-01]\n",
       " [ 6.49334484e+01]], \n",
       "\n",
       " intercept: [0.01665376]"
      ]
     },
     "execution_count": 139,
     "metadata": {},
     "output_type": "execute_result"
    }
   ],
   "source": [
    "las_sct = LASSOReg(alpha=1).fit(X, y)\n",
    "las_sct"
   ]
  },
  {
   "cell_type": "code",
   "execution_count": 60,
   "metadata": {},
   "outputs": [
    {
     "data": {
      "text/plain": [
       "array([[62.4960419]])"
      ]
     },
     "execution_count": 60,
     "metadata": {},
     "output_type": "execute_result"
    }
   ],
   "source": [
    "las_sct.predict(lasso_preds)"
   ]
  },
  {
   "cell_type": "code",
   "execution_count": null,
   "metadata": {},
   "outputs": [],
   "source": []
  }
 ],
 "metadata": {
  "kernelspec": {
   "display_name": "Python 3",
   "language": "python",
   "name": "python3"
  },
  "language_info": {
   "codemirror_mode": {
    "name": "ipython",
    "version": 3
   },
   "file_extension": ".py",
   "mimetype": "text/x-python",
   "name": "python",
   "nbconvert_exporter": "python",
   "pygments_lexer": "ipython3",
   "version": "3.7.3"
  }
 },
 "nbformat": 4,
 "nbformat_minor": 2
}

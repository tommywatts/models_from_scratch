{
 "cells": [
  {
   "cell_type": "code",
   "execution_count": 28,
   "metadata": {},
   "outputs": [],
   "source": [
    "import numpy as np\n",
    "from sklearn.datasets import make_regression\n",
    "import matplotlib.pyplot as plt\n",
    "from sklearn.linear_model import LinearRegression"
   ]
  },
  {
   "cell_type": "code",
   "execution_count": 105,
   "metadata": {},
   "outputs": [],
   "source": [
    "# data\n",
    "X, y = make_regression(10000, 3, noise = 15)"
   ]
  },
  {
   "cell_type": "code",
   "execution_count": 106,
   "metadata": {},
   "outputs": [
    {
     "data": {
      "text/plain": [
       "array([[ 1.18320094,  0.79723458,  0.43449984],\n",
       "       [-1.22225426,  1.49626643, -0.71136894],\n",
       "       [-1.42146956,  0.07657272,  0.6806229 ],\n",
       "       [-1.3121351 ,  0.42999779, -0.64162531],\n",
       "       [-1.1557816 , -1.200566  , -1.05766048]])"
      ]
     },
     "execution_count": 106,
     "metadata": {},
     "output_type": "execute_result"
    }
   ],
   "source": [
    "X[:5]"
   ]
  },
  {
   "cell_type": "code",
   "execution_count": 107,
   "metadata": {},
   "outputs": [
    {
     "data": {
      "text/plain": [
       "array([ 149.99364511,   63.80962579,    8.05717248,  -59.59173701,\n",
       "       -238.54783012])"
      ]
     },
     "execution_count": 107,
     "metadata": {},
     "output_type": "execute_result"
    }
   ],
   "source": [
    "y[:5]"
   ]
  },
  {
   "cell_type": "code",
   "execution_count": 147,
   "metadata": {},
   "outputs": [],
   "source": [
    "class Linreg():\n",
    "    \n",
    "    \"\"\" Linear Regression \"\"\"\n",
    "    \n",
    "    def __init__(self, alpha = 0.1, n_iter = 1000, degree=1):\n",
    "        self.alpha = alpha\n",
    "        self.n_iter = n_iter\n",
    "        self.input_dim = None\n",
    "        self.coefs = None\n",
    "        self.intercept = None\n",
    "        self.fitted = False\n",
    "\n",
    "    def fit(self, X, y, optimization='normal', verbose=None):\n",
    "        self.input_dim = X.shape[1]\n",
    "                 \n",
    "        # add 1s\n",
    "        xb = np.c_[np.ones((X.shape[0],1)), X]\n",
    "        \n",
    "        # initiate coefs\n",
    "        theta = np.ones((xb.shape[1], 1))\n",
    "        \n",
    "        # get m\n",
    "        m = xb.shape[0]\n",
    "        \n",
    "        # normal equation\n",
    "        if optimization=='normal':\n",
    "            if m < 50000:\n",
    "                theta = np.linalg.inv(xb.T.dot(xb)).dot(xb.T).dot(y)\n",
    "            else:\n",
    "                optimization = 'gradient_descent'\n",
    "        \n",
    "        # gradient descent\n",
    "        if optimization=='gradient_descent':\n",
    "            for step in range(self.n_iter):\n",
    "\n",
    "                # compute error\n",
    "                error = self.__error(xb, y, theta)\n",
    "\n",
    "                # update coefficients            \n",
    "                theta = theta - (self.alpha * (1 / m) * np.dot(xb.T, error))\n",
    "        \n",
    "        # stochastic gradient descent\n",
    "        if optimization=='stochastic':\n",
    "            for step in range(self.n_iter):\n",
    "                for i in range(m): \n",
    "                    \n",
    "                    # random selection from input\n",
    "                    random_index = np.random.randint(m)\n",
    "                    xi = xb[random_index:random_index + 1]\n",
    "                    yi = y[random_index:random_index + 1]\n",
    "                    \n",
    "                    # compute error\n",
    "                    error = self.__error(xi, yi, theta)\n",
    "                    \n",
    "                    # update coefficients\n",
    "                    \n",
    "                    #theta = theta - (self.alpha / m) * (np.dot(xi.T, error))\n",
    "                    gradients =  2 * (np.dot(xi.T, error))\n",
    "                \n",
    "                    eta = self.__schedule(step * m + i)\n",
    "                    \n",
    "                    theta = theta - eta * gradients\n",
    "            \n",
    "        # fit instances\n",
    "        self.coefs = theta[1:]\n",
    "        self.intercept = theta[0]\n",
    "        self.fitted = True\n",
    "        return self\n",
    "        \n",
    "    def __schedule(self, t, t0=5):\n",
    "        return t0 / (t + self.n_iter)\n",
    "    \n",
    "    @staticmethod\n",
    "    def __error(X, y, theta):\n",
    "        return X.dot(theta) - y.reshape(-1,1)\n",
    "    \n",
    "    @staticmethod\n",
    "    def __mse(error):\n",
    "        return (error ** 2).mean()\n",
    "    \n",
    "    # TODO : plot change in mse:\n",
    "    def plot_mse():\n",
    "        pass\n",
    "            \n",
    "    def predict(self, X):\n",
    "        if not self.fitted:\n",
    "            raise Exception(\"Linreg is not yet fitted.\")\n",
    "        if len(X.shape) == 1:\n",
    "            X = X.reshape(1,-1)\n",
    "        if X.shape[1] != self.input_dim:\n",
    "            raise Exception(f\"Input data shape must be equal to fit data shape {self.input_dim}\")\n",
    "        return X.dot(self.coefs)\n",
    "                \n",
    "\n",
    "    def __repr__(self):\n",
    "        if self.fitted:\n",
    "            return f\"coefficients: {self.coefs}, \\n\\n intercept: {self.intercept}\"\n",
    "        else:\n",
    "            return \"Linreg\""
   ]
  },
  {
   "cell_type": "code",
   "execution_count": null,
   "metadata": {},
   "outputs": [],
   "source": []
  },
  {
   "cell_type": "markdown",
   "metadata": {},
   "source": [
    "# Check against sklearn "
   ]
  },
  {
   "cell_type": "markdown",
   "metadata": {},
   "source": [
    "### Linear - gradient descent"
   ]
  },
  {
   "cell_type": "code",
   "execution_count": 148,
   "metadata": {},
   "outputs": [],
   "source": [
    "predictors = np.array([0.5, 1.5, 2])"
   ]
  },
  {
   "cell_type": "code",
   "execution_count": 135,
   "metadata": {},
   "outputs": [],
   "source": [
    "l = Linreg(0.1, 1000)"
   ]
  },
  {
   "cell_type": "code",
   "execution_count": 136,
   "metadata": {},
   "outputs": [
    {
     "data": {
      "text/plain": [
       "coefficients: [28.12385083 97.455906   91.69156057], \n",
       "\n",
       " intercept: -0.043460336910916275"
      ]
     },
     "execution_count": 136,
     "metadata": {},
     "output_type": "execute_result"
    }
   ],
   "source": [
    "l.fit(X, y)"
   ]
  },
  {
   "cell_type": "code",
   "execution_count": 137,
   "metadata": {},
   "outputs": [
    {
     "data": {
      "text/plain": [
       "array([28.12385083, 97.455906  , 91.69156057])"
      ]
     },
     "execution_count": 137,
     "metadata": {},
     "output_type": "execute_result"
    }
   ],
   "source": [
    "x = LinearRegression().fit(X, y)\n",
    "x.coef_"
   ]
  },
  {
   "cell_type": "code",
   "execution_count": 138,
   "metadata": {},
   "outputs": [
    {
     "data": {
      "text/plain": [
       "array([343.62890557])"
      ]
     },
     "execution_count": 138,
     "metadata": {},
     "output_type": "execute_result"
    }
   ],
   "source": [
    "l.predict(predictors)"
   ]
  },
  {
   "cell_type": "code",
   "execution_count": 139,
   "metadata": {},
   "outputs": [
    {
     "data": {
      "text/plain": [
       "array([343.58544523])"
      ]
     },
     "execution_count": 139,
     "metadata": {},
     "output_type": "execute_result"
    }
   ],
   "source": [
    "x.predict(predictors.reshape(1,-1))"
   ]
  },
  {
   "cell_type": "markdown",
   "metadata": {},
   "source": [
    "### Linear - stochastic gradient descent"
   ]
  },
  {
   "cell_type": "code",
   "execution_count": 149,
   "metadata": {},
   "outputs": [
    {
     "data": {
      "text/plain": [
       "Linreg"
      ]
     },
     "execution_count": 149,
     "metadata": {},
     "output_type": "execute_result"
    }
   ],
   "source": [
    "ls = Linreg(0.1, 50)\n",
    "ls"
   ]
  },
  {
   "cell_type": "code",
   "execution_count": 150,
   "metadata": {},
   "outputs": [
    {
     "data": {
      "text/plain": [
       "coefficients: [[28.01307357]\n",
       " [97.38820354]\n",
       " [91.72050264]], \n",
       "\n",
       " intercept: [-0.03803618]"
      ]
     },
     "execution_count": 150,
     "metadata": {},
     "output_type": "execute_result"
    }
   ],
   "source": [
    "ls.fit(X, y, 'stochastic')"
   ]
  },
  {
   "cell_type": "code",
   "execution_count": 151,
   "metadata": {},
   "outputs": [],
   "source": [
    "from sklearn.linear_model import SGDRegressor"
   ]
  },
  {
   "cell_type": "code",
   "execution_count": 152,
   "metadata": {},
   "outputs": [
    {
     "name": "stderr",
     "output_type": "stream",
     "text": [
      "/home/tommy/anaconda3/lib/python3.7/site-packages/sklearn/linear_model/stochastic_gradient.py:152: DeprecationWarning: n_iter parameter is deprecated in 0.19 and will be removed in 0.21. Use max_iter and tol instead.\n",
      "  DeprecationWarning)\n"
     ]
    }
   ],
   "source": [
    "s = SGDRegressor(n_iter=1000, penalty=None, eta0=0.1).fit(X, y)"
   ]
  },
  {
   "cell_type": "code",
   "execution_count": 153,
   "metadata": {},
   "outputs": [
    {
     "data": {
      "text/plain": [
       "array([[343.52984738]])"
      ]
     },
     "execution_count": 153,
     "metadata": {},
     "output_type": "execute_result"
    }
   ],
   "source": [
    "ls.predict(predictors)"
   ]
  },
  {
   "cell_type": "code",
   "execution_count": 154,
   "metadata": {},
   "outputs": [
    {
     "data": {
      "text/plain": [
       "array([343.37583304])"
      ]
     },
     "execution_count": 154,
     "metadata": {},
     "output_type": "execute_result"
    }
   ],
   "source": [
    "s.predict(predictors.reshape(1,-1))"
   ]
  },
  {
   "cell_type": "code",
   "execution_count": null,
   "metadata": {},
   "outputs": [],
   "source": []
  },
  {
   "cell_type": "code",
   "execution_count": null,
   "metadata": {},
   "outputs": [],
   "source": []
  }
 ],
 "metadata": {
  "kernelspec": {
   "display_name": "Python 3",
   "language": "python",
   "name": "python3"
  },
  "language_info": {
   "codemirror_mode": {
    "name": "ipython",
    "version": 3
   },
   "file_extension": ".py",
   "mimetype": "text/x-python",
   "name": "python",
   "nbconvert_exporter": "python",
   "pygments_lexer": "ipython3",
   "version": "3.7.3"
  }
 },
 "nbformat": 4,
 "nbformat_minor": 2
}
